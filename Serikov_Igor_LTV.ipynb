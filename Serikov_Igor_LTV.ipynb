{
 "cells": [
  {
   "cell_type": "code",
   "execution_count": 1,
   "metadata": {},
   "outputs": [],
   "source": [
    "url_pay = 'https://raw.githubusercontent.com/serikovigor/ltv_calc/main/payments.csv'\n",
    "url_prof = 'https://raw.githubusercontent.com/serikovigor/ltv_calc/main/profiles.csv'"
   ]
  },
  {
   "cell_type": "markdown",
   "metadata": {},
   "source": [
    "# Тестовое задание на расчет LTV\n"
   ]
  },
  {
   "cell_type": "markdown",
   "metadata": {},
   "source": [
    "### Сделал не всё)"
   ]
  },
  {
   "cell_type": "code",
   "execution_count": 2,
   "metadata": {},
   "outputs": [],
   "source": [
    "import pandas as pd\n",
    "payments = pd.read_csv(url_pay)"
   ]
  },
  {
   "cell_type": "code",
   "execution_count": 3,
   "metadata": {},
   "outputs": [
    {
     "data": {
      "text/html": [
       "<div>\n",
       "<style scoped>\n",
       "    .dataframe tbody tr th:only-of-type {\n",
       "        vertical-align: middle;\n",
       "    }\n",
       "\n",
       "    .dataframe tbody tr th {\n",
       "        vertical-align: top;\n",
       "    }\n",
       "\n",
       "    .dataframe thead th {\n",
       "        text-align: right;\n",
       "    }\n",
       "</style>\n",
       "<table border=\"1\" class=\"dataframe\">\n",
       "  <thead>\n",
       "    <tr style=\"text-align: right;\">\n",
       "      <th></th>\n",
       "      <th>uid</th>\n",
       "      <th>pay_dt</th>\n",
       "      <th>payment_sum</th>\n",
       "    </tr>\n",
       "  </thead>\n",
       "  <tbody>\n",
       "    <tr>\n",
       "      <td>0</td>\n",
       "      <td>cb1ef3ef1e9c802076280e506142012b6158ab7ea91eb0...</td>\n",
       "      <td>2019-07-05</td>\n",
       "      <td>3.49</td>\n",
       "    </tr>\n",
       "    <tr>\n",
       "      <td>1</td>\n",
       "      <td>cb1ef3ef1e9c802076280e506142012b6158ab7ea91eb0...</td>\n",
       "      <td>2019-07-06</td>\n",
       "      <td>0.69</td>\n",
       "    </tr>\n",
       "    <tr>\n",
       "      <td>2</td>\n",
       "      <td>cb1ef3ef1e9c802076280e506142012b6158ab7ea91eb0...</td>\n",
       "      <td>2019-07-09</td>\n",
       "      <td>6.99</td>\n",
       "    </tr>\n",
       "  </tbody>\n",
       "</table>\n",
       "</div>"
      ],
      "text/plain": [
       "                                                 uid      pay_dt  payment_sum\n",
       "0  cb1ef3ef1e9c802076280e506142012b6158ab7ea91eb0...  2019-07-05         3.49\n",
       "1  cb1ef3ef1e9c802076280e506142012b6158ab7ea91eb0...  2019-07-06         0.69\n",
       "2  cb1ef3ef1e9c802076280e506142012b6158ab7ea91eb0...  2019-07-09         6.99"
      ]
     },
     "execution_count": 3,
     "metadata": {},
     "output_type": "execute_result"
    }
   ],
   "source": [
    "payments[:3]"
   ]
  },
  {
   "cell_type": "code",
   "execution_count": 7,
   "metadata": {},
   "outputs": [
    {
     "data": {
      "text/plain": [
       "uid             object\n",
       "pay_dt          object\n",
       "payment_sum    float64\n",
       "dtype: object"
      ]
     },
     "execution_count": 7,
     "metadata": {},
     "output_type": "execute_result"
    }
   ],
   "source": [
    "payments.dtypes"
   ]
  },
  {
   "cell_type": "code",
   "execution_count": 8,
   "metadata": {},
   "outputs": [
    {
     "data": {
      "text/plain": [
       "((2712, 3), (521,))"
      ]
     },
     "execution_count": 8,
     "metadata": {},
     "output_type": "execute_result"
    }
   ],
   "source": [
    "payments.shape, payments['uid'].unique().shape"
   ]
  },
  {
   "cell_type": "code",
   "execution_count": 9,
   "metadata": {},
   "outputs": [
    {
     "data": {
      "text/html": [
       "<div>\n",
       "<style scoped>\n",
       "    .dataframe tbody tr th:only-of-type {\n",
       "        vertical-align: middle;\n",
       "    }\n",
       "\n",
       "    .dataframe tbody tr th {\n",
       "        vertical-align: top;\n",
       "    }\n",
       "\n",
       "    .dataframe thead th {\n",
       "        text-align: right;\n",
       "    }\n",
       "</style>\n",
       "<table border=\"1\" class=\"dataframe\">\n",
       "  <thead>\n",
       "    <tr style=\"text-align: right;\">\n",
       "      <th></th>\n",
       "      <th>uid</th>\n",
       "      <th>reg_dt</th>\n",
       "    </tr>\n",
       "  </thead>\n",
       "  <tbody>\n",
       "    <tr>\n",
       "      <td>0</td>\n",
       "      <td>1ef97d08f94722cc479b73df5c0218f5ba2c9404a1e93e...</td>\n",
       "      <td>2019-06-25</td>\n",
       "    </tr>\n",
       "    <tr>\n",
       "      <td>1</td>\n",
       "      <td>c9f16ccbf1bbc5c5ee2e446b11d0b1ff61a3f0956b4ae7...</td>\n",
       "      <td>2019-10-15</td>\n",
       "    </tr>\n",
       "    <tr>\n",
       "      <td>2</td>\n",
       "      <td>ec697f3d7cd7cbb584af5d3666d201c82e3a476362f907...</td>\n",
       "      <td>2019-05-14</td>\n",
       "    </tr>\n",
       "  </tbody>\n",
       "</table>\n",
       "</div>"
      ],
      "text/plain": [
       "                                                 uid      reg_dt\n",
       "0  1ef97d08f94722cc479b73df5c0218f5ba2c9404a1e93e...  2019-06-25\n",
       "1  c9f16ccbf1bbc5c5ee2e446b11d0b1ff61a3f0956b4ae7...  2019-10-15\n",
       "2  ec697f3d7cd7cbb584af5d3666d201c82e3a476362f907...  2019-05-14"
      ]
     },
     "execution_count": 9,
     "metadata": {},
     "output_type": "execute_result"
    }
   ],
   "source": [
    "profiles = pd.read_csv(url_prof)\n",
    "profiles[:3]\n"
   ]
  },
  {
   "cell_type": "code",
   "execution_count": 10,
   "metadata": {},
   "outputs": [],
   "source": [
    "profiles['reg_dt'] = pd.to_datetime(profiles['reg_dt'],dayfirst = True)"
   ]
  },
  {
   "cell_type": "code",
   "execution_count": 11,
   "metadata": {},
   "outputs": [],
   "source": [
    "pay_df = payments.merge(profiles,  how='left', left_on='uid', right_on='uid')"
   ]
  },
  {
   "cell_type": "code",
   "execution_count": 12,
   "metadata": {},
   "outputs": [],
   "source": [
    "pay_df['reg_dt'] = pd.to_datetime(pay_df['reg_dt'],dayfirst = True)\n",
    "pay_df['pay_dt'] = pd.to_datetime(pay_df['pay_dt'],dayfirst = True)"
   ]
  },
  {
   "cell_type": "code",
   "execution_count": 13,
   "metadata": {},
   "outputs": [],
   "source": [
    "pay_df = pay_df.sort_values('pay_dt')"
   ]
  },
  {
   "cell_type": "code",
   "execution_count": 14,
   "metadata": {},
   "outputs": [
    {
     "data": {
      "text/plain": [
       "uid                    object\n",
       "pay_dt         datetime64[ns]\n",
       "payment_sum           float64\n",
       "reg_dt         datetime64[ns]\n",
       "dtype: object"
      ]
     },
     "execution_count": 14,
     "metadata": {},
     "output_type": "execute_result"
    }
   ],
   "source": [
    "pay_df.dtypes"
   ]
  },
  {
   "cell_type": "code",
   "execution_count": 15,
   "metadata": {},
   "outputs": [],
   "source": [
    "# Кумулятивная сумма\n",
    "def get_cum_sum(date):\n",
    "    return pay_df['payment_sum'].where(pay_df['pay_dt']<=date).sum()"
   ]
  },
  {
   "cell_type": "code",
   "execution_count": 16,
   "metadata": {},
   "outputs": [],
   "source": [
    "pay_df['c_sum'] = pay_df['pay_dt'].map(lambda x: get_cum_sum(x))"
   ]
  },
  {
   "cell_type": "code",
   "execution_count": 17,
   "metadata": {},
   "outputs": [],
   "source": [
    "# Кол-во зарегестированных пользователей до текущей даты\n",
    "def get_users_utd(date):\n",
    "    return profiles['uid'].where(profiles['reg_dt'] <=date).count()"
   ]
  },
  {
   "cell_type": "code",
   "execution_count": 18,
   "metadata": {},
   "outputs": [],
   "source": [
    "pay_df['users_n_utd'] = pay_df['pay_dt'].map(lambda x: get_users_utd(x))"
   ]
  },
  {
   "cell_type": "code",
   "execution_count": 19,
   "metadata": {},
   "outputs": [],
   "source": [
    "pay_df['ltv'] = pay_df['c_sum']/pay_df['users_n_utd'].astype(float)\n",
    "pay_df['day'] = pd.to_timedelta(pay_df['pay_dt'] - pay_df['reg_dt'].min()).dt.days + 1\n",
    "pay_df['day'] = pay_df['day'].astype(int)"
   ]
  },
  {
   "cell_type": "code",
   "execution_count": 20,
   "metadata": {},
   "outputs": [],
   "source": [
    "pay_df = pay_df[[c for c in pay_df if c not in ['uid']] + ['uid']]"
   ]
  },
  {
   "cell_type": "code",
   "execution_count": 21,
   "metadata": {},
   "outputs": [
    {
     "data": {
      "text/html": [
       "<div>\n",
       "<style scoped>\n",
       "    .dataframe tbody tr th:only-of-type {\n",
       "        vertical-align: middle;\n",
       "    }\n",
       "\n",
       "    .dataframe tbody tr th {\n",
       "        vertical-align: top;\n",
       "    }\n",
       "\n",
       "    .dataframe thead th {\n",
       "        text-align: right;\n",
       "    }\n",
       "</style>\n",
       "<table border=\"1\" class=\"dataframe\">\n",
       "  <thead>\n",
       "    <tr style=\"text-align: right;\">\n",
       "      <th></th>\n",
       "      <th>pay_dt</th>\n",
       "      <th>payment_sum</th>\n",
       "      <th>reg_dt</th>\n",
       "      <th>c_sum</th>\n",
       "      <th>users_n_utd</th>\n",
       "      <th>ltv</th>\n",
       "      <th>day</th>\n",
       "      <th>uid</th>\n",
       "    </tr>\n",
       "  </thead>\n",
       "  <tbody>\n",
       "    <tr>\n",
       "      <td>156</td>\n",
       "      <td>2019-04-15</td>\n",
       "      <td>3.40</td>\n",
       "      <td>2019-04-15</td>\n",
       "      <td>3.40</td>\n",
       "      <td>20</td>\n",
       "      <td>0.170000</td>\n",
       "      <td>1</td>\n",
       "      <td>8ef4803d7a41e8b2164e77a06b4c67650806572218ccd4...</td>\n",
       "    </tr>\n",
       "    <tr>\n",
       "      <td>157</td>\n",
       "      <td>2019-04-16</td>\n",
       "      <td>0.68</td>\n",
       "      <td>2019-04-15</td>\n",
       "      <td>18.71</td>\n",
       "      <td>44</td>\n",
       "      <td>0.425227</td>\n",
       "      <td>2</td>\n",
       "      <td>8ef4803d7a41e8b2164e77a06b4c67650806572218ccd4...</td>\n",
       "    </tr>\n",
       "    <tr>\n",
       "      <td>1775</td>\n",
       "      <td>2019-04-16</td>\n",
       "      <td>11.14</td>\n",
       "      <td>2019-04-16</td>\n",
       "      <td>18.71</td>\n",
       "      <td>44</td>\n",
       "      <td>0.425227</td>\n",
       "      <td>2</td>\n",
       "      <td>700784adfdd162b4fd53c496196c10badf17c4b847f25f...</td>\n",
       "    </tr>\n",
       "  </tbody>\n",
       "</table>\n",
       "</div>"
      ],
      "text/plain": [
       "         pay_dt  payment_sum     reg_dt  c_sum  users_n_utd       ltv  day  \\\n",
       "156  2019-04-15         3.40 2019-04-15   3.40           20  0.170000    1   \n",
       "157  2019-04-16         0.68 2019-04-15  18.71           44  0.425227    2   \n",
       "1775 2019-04-16        11.14 2019-04-16  18.71           44  0.425227    2   \n",
       "\n",
       "                                                    uid  \n",
       "156   8ef4803d7a41e8b2164e77a06b4c67650806572218ccd4...  \n",
       "157   8ef4803d7a41e8b2164e77a06b4c67650806572218ccd4...  \n",
       "1775  700784adfdd162b4fd53c496196c10badf17c4b847f25f...  "
      ]
     },
     "execution_count": 21,
     "metadata": {},
     "output_type": "execute_result"
    }
   ],
   "source": [
    "pay_df[:3]"
   ]
  },
  {
   "cell_type": "code",
   "execution_count": null,
   "metadata": {},
   "outputs": [],
   "source": []
  },
  {
   "cell_type": "code",
   "execution_count": 23,
   "metadata": {},
   "outputs": [],
   "source": [
    "ltv_data = pay_df[['day','users_n_utd', 'c_sum', 'ltv']]"
   ]
  },
  {
   "cell_type": "code",
   "execution_count": 24,
   "metadata": {},
   "outputs": [
    {
     "data": {
      "text/html": [
       "<div>\n",
       "<style scoped>\n",
       "    .dataframe tbody tr th:only-of-type {\n",
       "        vertical-align: middle;\n",
       "    }\n",
       "\n",
       "    .dataframe tbody tr th {\n",
       "        vertical-align: top;\n",
       "    }\n",
       "\n",
       "    .dataframe thead th {\n",
       "        text-align: right;\n",
       "    }\n",
       "</style>\n",
       "<table border=\"1\" class=\"dataframe\">\n",
       "  <thead>\n",
       "    <tr style=\"text-align: right;\">\n",
       "      <th></th>\n",
       "      <th>day</th>\n",
       "      <th>users_n_utd</th>\n",
       "      <th>c_sum</th>\n",
       "      <th>ltv</th>\n",
       "    </tr>\n",
       "  </thead>\n",
       "  <tbody>\n",
       "    <tr>\n",
       "      <td>156</td>\n",
       "      <td>1</td>\n",
       "      <td>20</td>\n",
       "      <td>3.40</td>\n",
       "      <td>0.170000</td>\n",
       "    </tr>\n",
       "    <tr>\n",
       "      <td>157</td>\n",
       "      <td>2</td>\n",
       "      <td>44</td>\n",
       "      <td>18.71</td>\n",
       "      <td>0.425227</td>\n",
       "    </tr>\n",
       "    <tr>\n",
       "      <td>1775</td>\n",
       "      <td>2</td>\n",
       "      <td>44</td>\n",
       "      <td>18.71</td>\n",
       "      <td>0.425227</td>\n",
       "    </tr>\n",
       "  </tbody>\n",
       "</table>\n",
       "</div>"
      ],
      "text/plain": [
       "      day  users_n_utd  c_sum       ltv\n",
       "156     1           20   3.40  0.170000\n",
       "157     2           44  18.71  0.425227\n",
       "1775    2           44  18.71  0.425227"
      ]
     },
     "execution_count": 24,
     "metadata": {},
     "output_type": "execute_result"
    }
   ],
   "source": [
    "ltv_data[:3]"
   ]
  },
  {
   "cell_type": "code",
   "execution_count": 107,
   "metadata": {},
   "outputs": [
    {
     "data": {
      "text/plain": [
       "Text(0, 0.5, 'LTV')"
      ]
     },
     "execution_count": 107,
     "metadata": {},
     "output_type": "execute_result"
    },
    {
     "data": {
      "image/png": "[encoded data removed]",
      "text/plain": [
       "<Figure size 432x288 with 1 Axes>"
      ]
     },
     "metadata": {
      "needs_background": "light"
     },
     "output_type": "display_data"
    }
   ],
   "source": [
    "import matplotlib.pyplot as plt\n",
    "%matplotlib inline\n",
    "plt.scatter(ltv_data['day'], ltv_data['ltv'])\n",
    "plt.xlabel('Days')\n",
    "plt.ylabel('LTV')"
   ]
  },
  {
   "cell_type": "markdown",
   "metadata": {},
   "source": [
    "### Как видно, ltv - можно достаточно точно аппроксимировать даже линейной функцией.\n",
    "Поэтому рассчитав коэффициент LTV_K_90_5 = LTV_AVG_90/LTV_AVG_5,\n",
    "можно потом восстановить  даже по одной точке LTV_AVG_5.\n",
    "Идеи улучшения - может более точно восстановить зависимость (логарифм..)"
   ]
  },
  {
   "cell_type": "code",
   "execution_count": null,
   "metadata": {},
   "outputs": [],
   "source": []
  }
 ],
 "metadata": {
  "kernelspec": {
   "display_name": "Python 3",
   "language": "python",
   "name": "python3"
  },
  "language_info": {
   "codemirror_mode": {
    "name": "ipython",
    "version": 3
   },
   "file_extension": ".py",
   "mimetype": "text/x-python",
   "name": "python",
   "nbconvert_exporter": "python",
   "pygments_lexer": "ipython3",
   "version": "3.7.4"
  }
 },
 "nbformat": 4,
 "nbformat_minor": 2
}
