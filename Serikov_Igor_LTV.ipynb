{
 "cells": [
  {
   "cell_type": "code",
   "execution_count": 1,
   "metadata": {},
   "outputs": [],
   "source": [
    "url_pay = 'https://raw.githubusercontent.com/serikovigor/ltv_calc/main/payments.csv'\n",
    "url_prof = 'https://raw.githubusercontent.com/serikovigor/ltv_calc/main/profiles.csv'"
   ]
  },
  {
   "cell_type": "markdown",
   "metadata": {},
   "source": [
    "# Тестовое задание на расчет LTV\n"
   ]
  },
  {
   "cell_type": "markdown",
   "metadata": {},
   "source": []
  },
  {
   "cell_type": "code",
   "execution_count": 180,
   "metadata": {},
   "outputs": [],
   "source": [
    "import pandas as pd\n",
    "import numpy as np\n"
   ]
  },
  {
   "cell_type": "code",
   "execution_count": 181,
   "metadata": {},
   "outputs": [
    {
     "data": {
      "text/html": [
       "<div>\n",
       "<style scoped>\n",
       "    .dataframe tbody tr th:only-of-type {\n",
       "        vertical-align: middle;\n",
       "    }\n",
       "\n",
       "    .dataframe tbody tr th {\n",
       "        vertical-align: top;\n",
       "    }\n",
       "\n",
       "    .dataframe thead th {\n",
       "        text-align: right;\n",
       "    }\n",
       "</style>\n",
       "<table border=\"1\" class=\"dataframe\">\n",
       "  <thead>\n",
       "    <tr style=\"text-align: right;\">\n",
       "      <th></th>\n",
       "      <th>uid</th>\n",
       "      <th>pay_dt</th>\n",
       "      <th>payment_sum</th>\n",
       "    </tr>\n",
       "  </thead>\n",
       "  <tbody>\n",
       "    <tr>\n",
       "      <td>0</td>\n",
       "      <td>cb1ef3ef1e9c802076280e506142012b6158ab7ea91eb0...</td>\n",
       "      <td>2019-07-05</td>\n",
       "      <td>3.49</td>\n",
       "    </tr>\n",
       "    <tr>\n",
       "      <td>1</td>\n",
       "      <td>cb1ef3ef1e9c802076280e506142012b6158ab7ea91eb0...</td>\n",
       "      <td>2019-07-06</td>\n",
       "      <td>0.69</td>\n",
       "    </tr>\n",
       "    <tr>\n",
       "      <td>2</td>\n",
       "      <td>cb1ef3ef1e9c802076280e506142012b6158ab7ea91eb0...</td>\n",
       "      <td>2019-07-09</td>\n",
       "      <td>6.99</td>\n",
       "    </tr>\n",
       "  </tbody>\n",
       "</table>\n",
       "</div>"
      ],
      "text/plain": [
       "                                                 uid      pay_dt  payment_sum\n",
       "0  cb1ef3ef1e9c802076280e506142012b6158ab7ea91eb0...  2019-07-05         3.49\n",
       "1  cb1ef3ef1e9c802076280e506142012b6158ab7ea91eb0...  2019-07-06         0.69\n",
       "2  cb1ef3ef1e9c802076280e506142012b6158ab7ea91eb0...  2019-07-09         6.99"
      ]
     },
     "execution_count": 181,
     "metadata": {},
     "output_type": "execute_result"
    }
   ],
   "source": [
    "payments = pd.read_csv(url_pay)\n",
    "payments[:3]"
   ]
  },
  {
   "cell_type": "code",
   "execution_count": 182,
   "metadata": {},
   "outputs": [
    {
     "data": {
      "text/plain": [
       "uid             object\n",
       "pay_dt          object\n",
       "payment_sum    float64\n",
       "dtype: object"
      ]
     },
     "execution_count": 182,
     "metadata": {},
     "output_type": "execute_result"
    }
   ],
   "source": [
    "payments.dtypes"
   ]
  },
  {
   "cell_type": "code",
   "execution_count": 183,
   "metadata": {},
   "outputs": [
    {
     "data": {
      "text/plain": [
       "((2712, 3), (521,))"
      ]
     },
     "execution_count": 183,
     "metadata": {},
     "output_type": "execute_result"
    }
   ],
   "source": [
    "payments.shape, payments['uid'].unique().shape"
   ]
  },
  {
   "cell_type": "code",
   "execution_count": 184,
   "metadata": {},
   "outputs": [
    {
     "data": {
      "text/html": [
       "<div>\n",
       "<style scoped>\n",
       "    .dataframe tbody tr th:only-of-type {\n",
       "        vertical-align: middle;\n",
       "    }\n",
       "\n",
       "    .dataframe tbody tr th {\n",
       "        vertical-align: top;\n",
       "    }\n",
       "\n",
       "    .dataframe thead th {\n",
       "        text-align: right;\n",
       "    }\n",
       "</style>\n",
       "<table border=\"1\" class=\"dataframe\">\n",
       "  <thead>\n",
       "    <tr style=\"text-align: right;\">\n",
       "      <th></th>\n",
       "      <th>uid</th>\n",
       "      <th>reg_dt</th>\n",
       "    </tr>\n",
       "  </thead>\n",
       "  <tbody>\n",
       "    <tr>\n",
       "      <td>0</td>\n",
       "      <td>1ef97d08f94722cc479b73df5c0218f5ba2c9404a1e93e...</td>\n",
       "      <td>2019-06-25</td>\n",
       "    </tr>\n",
       "    <tr>\n",
       "      <td>1</td>\n",
       "      <td>c9f16ccbf1bbc5c5ee2e446b11d0b1ff61a3f0956b4ae7...</td>\n",
       "      <td>2019-10-15</td>\n",
       "    </tr>\n",
       "    <tr>\n",
       "      <td>2</td>\n",
       "      <td>ec697f3d7cd7cbb584af5d3666d201c82e3a476362f907...</td>\n",
       "      <td>2019-05-14</td>\n",
       "    </tr>\n",
       "  </tbody>\n",
       "</table>\n",
       "</div>"
      ],
      "text/plain": [
       "                                                 uid      reg_dt\n",
       "0  1ef97d08f94722cc479b73df5c0218f5ba2c9404a1e93e...  2019-06-25\n",
       "1  c9f16ccbf1bbc5c5ee2e446b11d0b1ff61a3f0956b4ae7...  2019-10-15\n",
       "2  ec697f3d7cd7cbb584af5d3666d201c82e3a476362f907...  2019-05-14"
      ]
     },
     "execution_count": 184,
     "metadata": {},
     "output_type": "execute_result"
    }
   ],
   "source": [
    "profiles = pd.read_csv(url_prof)\n",
    "profiles[:3]\n"
   ]
  },
  {
   "cell_type": "code",
   "execution_count": 185,
   "metadata": {},
   "outputs": [
    {
     "data": {
      "text/plain": [
       "(5000, 2)"
      ]
     },
     "execution_count": 185,
     "metadata": {},
     "output_type": "execute_result"
    }
   ],
   "source": [
    "profiles.shape"
   ]
  },
  {
   "cell_type": "code",
   "execution_count": 186,
   "metadata": {},
   "outputs": [],
   "source": [
    "profiles['reg_dt'] = pd.to_datetime(profiles['reg_dt'],dayfirst = True)"
   ]
  },
  {
   "cell_type": "code",
   "execution_count": 187,
   "metadata": {},
   "outputs": [],
   "source": [
    "pay_df = payments.merge(profiles,  how='left', left_on='uid', right_on='uid')"
   ]
  },
  {
   "cell_type": "code",
   "execution_count": 188,
   "metadata": {},
   "outputs": [],
   "source": [
    "pay_df['reg_dt'] = pd.to_datetime(pay_df['reg_dt'],dayfirst = True)\n",
    "pay_df['pay_dt'] = pd.to_datetime(pay_df['pay_dt'],dayfirst = True)"
   ]
  },
  {
   "cell_type": "code",
   "execution_count": 189,
   "metadata": {},
   "outputs": [],
   "source": [
    "pay_df = pay_df.sort_values('pay_dt')"
   ]
  },
  {
   "cell_type": "code",
   "execution_count": 190,
   "metadata": {},
   "outputs": [
    {
     "data": {
      "text/plain": [
       "uid                    object\n",
       "pay_dt         datetime64[ns]\n",
       "payment_sum           float64\n",
       "reg_dt         datetime64[ns]\n",
       "dtype: object"
      ]
     },
     "execution_count": 190,
     "metadata": {},
     "output_type": "execute_result"
    }
   ],
   "source": [
    "pay_df.dtypes"
   ]
  },
  {
   "cell_type": "code",
   "execution_count": 192,
   "metadata": {},
   "outputs": [],
   "source": [
    "## Кол-во дней с даты регистрацции, определяет день LTV\n",
    "pay_df['day'] = pd.to_timedelta(pay_df['pay_dt'] - pay_df['reg_dt']).dt.days + 1\n",
    "pay_df['day'] = pay_df['day'].astype(int)"
   ]
  },
  {
   "cell_type": "code",
   "execution_count": 193,
   "metadata": {},
   "outputs": [],
   "source": [
    "pay_df = pay_df[[c for c in pay_df if c not in ['uid']] + ['uid']]"
   ]
  },
  {
   "cell_type": "code",
   "execution_count": 194,
   "metadata": {},
   "outputs": [
    {
     "data": {
      "text/html": [
       "<div>\n",
       "<style scoped>\n",
       "    .dataframe tbody tr th:only-of-type {\n",
       "        vertical-align: middle;\n",
       "    }\n",
       "\n",
       "    .dataframe tbody tr th {\n",
       "        vertical-align: top;\n",
       "    }\n",
       "\n",
       "    .dataframe thead th {\n",
       "        text-align: right;\n",
       "    }\n",
       "</style>\n",
       "<table border=\"1\" class=\"dataframe\">\n",
       "  <thead>\n",
       "    <tr style=\"text-align: right;\">\n",
       "      <th></th>\n",
       "      <th>pay_dt</th>\n",
       "      <th>payment_sum</th>\n",
       "      <th>reg_dt</th>\n",
       "      <th>day</th>\n",
       "      <th>uid</th>\n",
       "    </tr>\n",
       "  </thead>\n",
       "  <tbody>\n",
       "    <tr>\n",
       "      <td>156</td>\n",
       "      <td>2019-04-15</td>\n",
       "      <td>3.40</td>\n",
       "      <td>2019-04-15</td>\n",
       "      <td>1</td>\n",
       "      <td>8ef4803d7a41e8b2164e77a06b4c67650806572218ccd4...</td>\n",
       "    </tr>\n",
       "    <tr>\n",
       "      <td>157</td>\n",
       "      <td>2019-04-16</td>\n",
       "      <td>0.68</td>\n",
       "      <td>2019-04-15</td>\n",
       "      <td>2</td>\n",
       "      <td>8ef4803d7a41e8b2164e77a06b4c67650806572218ccd4...</td>\n",
       "    </tr>\n",
       "    <tr>\n",
       "      <td>1775</td>\n",
       "      <td>2019-04-16</td>\n",
       "      <td>11.14</td>\n",
       "      <td>2019-04-16</td>\n",
       "      <td>1</td>\n",
       "      <td>700784adfdd162b4fd53c496196c10badf17c4b847f25f...</td>\n",
       "    </tr>\n",
       "  </tbody>\n",
       "</table>\n",
       "</div>"
      ],
      "text/plain": [
       "         pay_dt  payment_sum     reg_dt  day  \\\n",
       "156  2019-04-15         3.40 2019-04-15    1   \n",
       "157  2019-04-16         0.68 2019-04-15    2   \n",
       "1775 2019-04-16        11.14 2019-04-16    1   \n",
       "\n",
       "                                                    uid  \n",
       "156   8ef4803d7a41e8b2164e77a06b4c67650806572218ccd4...  \n",
       "157   8ef4803d7a41e8b2164e77a06b4c67650806572218ccd4...  \n",
       "1775  700784adfdd162b4fd53c496196c10badf17c4b847f25f...  "
      ]
     },
     "execution_count": 194,
     "metadata": {},
     "output_type": "execute_result"
    }
   ],
   "source": [
    "pay_df[:3]"
   ]
  },
  {
   "cell_type": "markdown",
   "metadata": {},
   "source": []
  },
  {
   "cell_type": "markdown",
   "metadata": {},
   "source": [
    "# 1 пункт\n",
    "построим LTV для всех когорт (дней)"
   ]
  },
  {
   "cell_type": "code",
   "execution_count": 195,
   "metadata": {},
   "outputs": [],
   "source": [
    "df = pay_df\n",
    "from_date = '2019-04-15'\n",
    "df = df[df['reg_dt']>=from_date]\n",
    "df['day'] = pd.to_timedelta(df['pay_dt'] - df['reg_dt']).dt.days + 1\n",
    "df['day'] = df['day'].astype(int)"
   ]
  },
  {
   "cell_type": "code",
   "execution_count": 196,
   "metadata": {},
   "outputs": [],
   "source": [
    "def LTV_for_day(df, day):\n",
    "    ''' df - DataFrame, day - LTV day number'''\n",
    "    df_day = df[df['day']<=day]\n",
    "    df_day_uniq = len(df_day['uid'].unique())\n",
    "    df_day_sum = df_day['payment_sum'].sum()\n",
    "    ltv = df_day_sum / df_day_uniq\n",
    "    return ltv"
   ]
  },
  {
   "cell_type": "code",
   "execution_count": 197,
   "metadata": {},
   "outputs": [
    {
     "name": "stderr",
     "output_type": "stream",
     "text": [
      "/home/igor/anaconda3/lib/python3.7/site-packages/ipykernel_launcher.py:6: RuntimeWarning: invalid value encountered in double_scalars\n",
      "  \n"
     ]
    }
   ],
   "source": [
    "ltv_arr = []\n",
    "for n in range(0,180):\n",
    "    ltv_arr.append(LTV_for_day(df,n))"
   ]
  },
  {
   "cell_type": "code",
   "execution_count": 198,
   "metadata": {},
   "outputs": [
    {
     "data": {
      "text/plain": [
       "Text(0, 0.5, 'LTV')"
      ]
     },
     "execution_count": 198,
     "metadata": {},
     "output_type": "execute_result"
    },
    {
     "data": {
      "image/png": "[encoded data removed]",
      "text/plain": [
       "<Figure size 432x288 with 1 Axes>"
      ]
     },
     "metadata": {
      "needs_background": "light"
     },
     "output_type": "display_data"
    }
   ],
   "source": [
    "import matplotlib.pyplot as plt\n",
    "%matplotlib inline\n",
    "plt.scatter(list(range(0,180)),ltv_arr)\n",
    "plt.xlabel('Days')\n",
    "plt.ylabel('LTV')"
   ]
  },
  {
   "cell_type": "markdown",
   "metadata": {},
   "source": [
    "#### Как видно, ltv - можно аппроксимировать линейной функцией.\n",
    "Поэтому рассчитав коэффициент LTV_K_90_5 = LTV_AVG_90/LTV_AVG_5,\n",
    "можно потом восстановить  даже по одной точке LTV_AVG_5.\n"
   ]
  },
  {
   "cell_type": "markdown",
   "metadata": {},
   "source": [
    "## 2 пункт"
   ]
  },
  {
   "cell_type": "code",
   "execution_count": 199,
   "metadata": {},
   "outputs": [],
   "source": [
    "def LTV_90_5_ratio(df, from_date):\n",
    "    df = df[df['reg_dt']>=from_date].copy()\n",
    "    df['day'] = pd.to_timedelta(df['pay_dt'] - df['reg_dt']).dt.days + 1\n",
    "    df['day'] = df['day'].astype(int)\n",
    "    return LTV_for_day(df, 90) / LTV_for_day(df, 5),LTV_for_day(df, 90), LTV_for_day(df, 5)\n",
    "    \n",
    "    \n",
    "    "
   ]
  },
  {
   "cell_type": "code",
   "execution_count": 200,
   "metadata": {},
   "outputs": [],
   "source": [
    "k90_5, LTV90_, LTV_5_ = LTV_90_5_ratio(pay_df, '2019-05-01')"
   ]
  },
  {
   "cell_type": "code",
   "execution_count": 201,
   "metadata": {},
   "outputs": [
    {
     "data": {
      "text/plain": [
       "3.0441181921459877"
      ]
     },
     "execution_count": 201,
     "metadata": {},
     "output_type": "execute_result"
    }
   ],
   "source": [
    "# установленный коэффициент\n",
    "k90_5"
   ]
  },
  {
   "cell_type": "code",
   "execution_count": 202,
   "metadata": {},
   "outputs": [],
   "source": [
    "k, LTV90, LTV5 = LTV_90_5_ratio(pay_df, '2019-09-01')"
   ]
  },
  {
   "cell_type": "code",
   "execution_count": 203,
   "metadata": {},
   "outputs": [
    {
     "name": "stdout",
     "output_type": "stream",
     "text": [
      "3.1541919586524045 86.91027027027027 27.553893805309738\n"
     ]
    }
   ],
   "source": [
    "print (k, LTV90, LTV5)"
   ]
  },
  {
   "cell_type": "code",
   "execution_count": 204,
   "metadata": {},
   "outputs": [
    {
     "name": "stdout",
     "output_type": "stream",
     "text": [
      "REAL LTV90 86.91027027027027\n",
      "calc LTV90 83.87730939720201\n"
     ]
    }
   ],
   "source": [
    "#Реальное LTV90\n",
    "print ('REAL LTV90', LTV90)\n",
    "print ('calc LTV90', LTV5*k90_5)"
   ]
  },
  {
   "cell_type": "markdown",
   "metadata": {},
   "source": [
    "### Как видно ошибка восстановления - не большая"
   ]
  },
  {
   "cell_type": "code",
   "execution_count": null,
   "metadata": {},
   "outputs": [],
   "source": []
  }
 ],
 "metadata": {
  "kernelspec": {
   "display_name": "Python 3",
   "language": "python",
   "name": "python3"
  },
  "language_info": {
   "codemirror_mode": {
    "name": "ipython",
    "version": 3
   },
   "file_extension": ".py",
   "mimetype": "text/x-python",
   "name": "python",
   "nbconvert_exporter": "python",
   "pygments_lexer": "ipython3",
   "version": "3.7.4"
  }
 },
 "nbformat": 4,
 "nbformat_minor": 2
}
